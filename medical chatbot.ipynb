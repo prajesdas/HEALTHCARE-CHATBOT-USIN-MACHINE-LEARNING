{
 "cells": [
  {
   "cell_type": "markdown",
   "id": "df88158a",
   "metadata": {},
   "source": [
    "# HEALTHCARE  CHATBOT"
   ]
  },
  {
   "cell_type": "code",
   "execution_count": 11,
   "id": "1a9ad0e7",
   "metadata": {},
   "outputs": [],
   "source": [
    "import pandas as pd\n",
    "from sklearn.feature_extraction.text import CountVectorizer\n",
    "from sklearn.naive_bayes import MultinomialNB\n",
    "from sklearn.pipeline import make_pipeline\n",
    "\n",
    "\n",
    "data = pd.read_csv(\"C:\\\\Users\\\\PRAJES DAS\\\\Downloads\\\\Symptom2Disease.csv\")\n",
    "\n",
    "\n",
    "X = data['text']\n",
    "Y = data['label']\n",
    "\n",
    "\n",
    "# Create a pipeline with CountVectorizer and Multinomial Naive Bayes classifier\n",
    "\n",
    "model = make_pipeline(CountVectorizer(), MultinomialNB())\n",
    "\n",
    "\n",
    "model.fit(X, Y)\n",
    "\n",
    "def get_Dieases_Detection(symptoms):\n",
    "    predicted_dieseas = model.predict([symptoms])\n",
    "    return predicted_dieseas[0]\n",
    "\n",
    "\n",
    "\n",
    "\n",
    "def chat():\n",
    "    print(\".............Welcome To Dieseas Detection Chatbot!.............\")\n",
    "   \n",
    "    while True:\n",
    "        user_input = input(\"You: \")\n",
    "        if user_input.lower() in ['quit', 'exit', 'bye','thank you']:\n",
    "            print(\"Dieases Detection Chatbot: Goodbye!\")\n",
    "            break\n",
    "        else:\n",
    "            Predicted_Dieases = get_Dieases_Detection(user_input)\n",
    "            print(\"Dieseas Detection Chatbot:\",  Predicted_Dieases)\n",
    "            \n",
    "            \n"
   ]
  },
  {
   "cell_type": "markdown",
   "id": "b73d8731",
   "metadata": {},
   "source": [
    "# Function to generate predicted graph"
   ]
  },
  {
   "cell_type": "code",
   "execution_count": 4,
   "id": "9f03f6f8",
   "metadata": {},
   "outputs": [
    {
     "data": {
      "image/png": "[encoded data removed]",
      "text/plain": [
       "<Figure size 640x480 with 1 Axes>"
      ]
     },
     "metadata": {},
     "output_type": "display_data"
    }
   ],
   "source": [
    "import matplotlib.pyplot as plt\n",
    "import pandas as pd\n",
    "\n",
    "pd.Series('label').value_counts().plot(kind='hist')\n",
    "plt.xlabel('Diseases')\n",
    "plt.ylabel('Frequency')\n",
    "plt.title('Frequency of Predicted Diseases')\n",
    "plt.show()\n"
   ]
  },
  {
   "cell_type": "markdown",
   "id": "85b77561",
   "metadata": {},
   "source": [
    "# Start the chatbot"
   ]
  },
  {
   "cell_type": "code",
   "execution_count": null,
   "id": "4f55d4b1",
   "metadata": {},
   "outputs": [
    {
     "name": "stdout",
     "output_type": "stream",
     "text": [
      ".............Welcome To Dieseas Detection Chatbot!.............\n"
     ]
    }
   ],
   "source": [
    "chat()"
   ]
  },
  {
   "cell_type": "markdown",
   "id": "4f425289",
   "metadata": {},
   "source": [
    "# Accuracy"
   ]
  },
  {
   "cell_type": "code",
   "execution_count": 9,
   "id": "517963d6",
   "metadata": {},
   "outputs": [
    {
     "name": "stdout",
     "output_type": "stream",
     "text": [
      "Accuracy: 0.95\n"
     ]
    }
   ],
   "source": [
    "from sklearn.model_selection import train_test_split\n",
    "from sklearn.metrics import accuracy_score\n",
    "\n",
    "\n",
    "X_train, X_test, Y_train, Y_test = train_test_split(X, Y, test_size=0.2, random_state=42)\n",
    "\n",
    "\n",
    "model.fit(X_train, Y_train)\n",
    "\n",
    "Y_pred = model.predict(X_test)\n",
    "\n",
    "accuracy = accuracy_score(Y_test, Y_pred)\n",
    "print(\"Accuracy:\", accuracy)\n"
   ]
  },
  {
   "cell_type": "code",
   "execution_count": null,
   "id": "57db025d",
   "metadata": {},
   "outputs": [],
   "source": [
    "df['label'].unique()"
   ]
  },
  {
   "cell_type": "code",
   "execution_count": 17,
   "id": "b77e95db",
   "metadata": {},
   "outputs": [
    {
     "data": {
      "text/plain": [
       "['Psoriasis', 'Psoriasis', 'Psoriasis', 'Psoriasis', 'Psoriasis', ..., 'diabetes', 'diabetes', 'diabetes', 'diabetes', 'diabetes']\n",
       "Length: 1199\n",
       "Categories (24, object): ['Acne', 'Arthritis', 'Bronchial Asthma', 'Cervical spondylosis', ..., 'drug reaction', 'gastroesophageal reflux disease', 'peptic ulcer disease', 'urinary tract infection']"
      ]
     },
     "execution_count": 17,
     "metadata": {},
     "output_type": "execute_result"
    }
   ],
   "source": [
    "import pandas as pd\n",
    "pd.Categorical(df['label'])"
   ]
  },
  {
   "cell_type": "code",
   "execution_count": 4,
   "id": "3a171925",
   "metadata": {},
   "outputs": [],
   "source": [
    "import pandas as pd\n",
    "df=pd.read_csv(\"C:\\\\Users\\\\PRAJES DAS\\\\Downloads\\\\Symptom2Disease.csv\")\n"
   ]
  },
  {
   "cell_type": "code",
   "execution_count": 5,
   "id": "18c78e43",
   "metadata": {},
   "outputs": [
    {
     "data": {
      "text/html": [
       "<div>\n",
       "<style scoped>\n",
       "    .dataframe tbody tr th:only-of-type {\n",
       "        vertical-align: middle;\n",
       "    }\n",
       "\n",
       "    .dataframe tbody tr th {\n",
       "        vertical-align: top;\n",
       "    }\n",
       "\n",
       "    .dataframe thead th {\n",
       "        text-align: right;\n",
       "    }\n",
       "</style>\n",
       "<table border=\"1\" class=\"dataframe\">\n",
       "  <thead>\n",
       "    <tr style=\"text-align: right;\">\n",
       "      <th></th>\n",
       "      <th>Unnamed: 0</th>\n",
       "      <th>label</th>\n",
       "      <th>text</th>\n",
       "      <th>Unnamed: 3</th>\n",
       "      <th>Unnamed: 4</th>\n",
       "    </tr>\n",
       "  </thead>\n",
       "  <tbody>\n",
       "    <tr>\n",
       "      <th>0</th>\n",
       "      <td>0</td>\n",
       "      <td>Psoriasis</td>\n",
       "      <td>I have been experiencing a skin rash on my arm...</td>\n",
       "      <td>NaN</td>\n",
       "      <td>NaN</td>\n",
       "    </tr>\n",
       "    <tr>\n",
       "      <th>1</th>\n",
       "      <td>1</td>\n",
       "      <td>Psoriasis</td>\n",
       "      <td>My skin has been peeling, especially on my kne...</td>\n",
       "      <td>NaN</td>\n",
       "      <td>NaN</td>\n",
       "    </tr>\n",
       "    <tr>\n",
       "      <th>2</th>\n",
       "      <td>2</td>\n",
       "      <td>Psoriasis</td>\n",
       "      <td>I have been experiencing joint pain in my fing...</td>\n",
       "      <td>NaN</td>\n",
       "      <td>NaN</td>\n",
       "    </tr>\n",
       "    <tr>\n",
       "      <th>3</th>\n",
       "      <td>3</td>\n",
       "      <td>Psoriasis</td>\n",
       "      <td>There is a silver like dusting on my skin, esp...</td>\n",
       "      <td>NaN</td>\n",
       "      <td>NaN</td>\n",
       "    </tr>\n",
       "    <tr>\n",
       "      <th>4</th>\n",
       "      <td>4</td>\n",
       "      <td>Psoriasis</td>\n",
       "      <td>My nails have small dents or pits in them, and...</td>\n",
       "      <td>NaN</td>\n",
       "      <td>NaN</td>\n",
       "    </tr>\n",
       "    <tr>\n",
       "      <th>...</th>\n",
       "      <td>...</td>\n",
       "      <td>...</td>\n",
       "      <td>...</td>\n",
       "      <td>...</td>\n",
       "      <td>...</td>\n",
       "    </tr>\n",
       "    <tr>\n",
       "      <th>1194</th>\n",
       "      <td>295</td>\n",
       "      <td>diabetes</td>\n",
       "      <td>I'm shaking and trembling all over. I've lost ...</td>\n",
       "      <td>NaN</td>\n",
       "      <td>NaN</td>\n",
       "    </tr>\n",
       "    <tr>\n",
       "      <th>1195</th>\n",
       "      <td>296</td>\n",
       "      <td>diabetes</td>\n",
       "      <td>Particularly in the crevices of my skin, I hav...</td>\n",
       "      <td>NaN</td>\n",
       "      <td>NaN</td>\n",
       "    </tr>\n",
       "    <tr>\n",
       "      <th>1196</th>\n",
       "      <td>297</td>\n",
       "      <td>diabetes</td>\n",
       "      <td>I regularly experience these intense urges and...</td>\n",
       "      <td>NaN</td>\n",
       "      <td>NaN</td>\n",
       "    </tr>\n",
       "    <tr>\n",
       "      <th>1197</th>\n",
       "      <td>298</td>\n",
       "      <td>diabetes</td>\n",
       "      <td>I have trouble breathing, especially outside. ...</td>\n",
       "      <td>NaN</td>\n",
       "      <td>NaN</td>\n",
       "    </tr>\n",
       "    <tr>\n",
       "      <th>1198</th>\n",
       "      <td>299</td>\n",
       "      <td>diabetes</td>\n",
       "      <td>I constantly sneeze and have a dry cough. My i...</td>\n",
       "      <td>NaN</td>\n",
       "      <td>NaN</td>\n",
       "    </tr>\n",
       "  </tbody>\n",
       "</table>\n",
       "<p>1199 rows × 5 columns</p>\n",
       "</div>"
      ],
      "text/plain": [
       "      Unnamed: 0      label  \\\n",
       "0              0  Psoriasis   \n",
       "1              1  Psoriasis   \n",
       "2              2  Psoriasis   \n",
       "3              3  Psoriasis   \n",
       "4              4  Psoriasis   \n",
       "...          ...        ...   \n",
       "1194         295   diabetes   \n",
       "1195         296   diabetes   \n",
       "1196         297   diabetes   \n",
       "1197         298   diabetes   \n",
       "1198         299   diabetes   \n",
       "\n",
       "                                                   text Unnamed: 3 Unnamed: 4  \n",
       "0     I have been experiencing a skin rash on my arm...        NaN        NaN  \n",
       "1     My skin has been peeling, especially on my kne...        NaN        NaN  \n",
       "2     I have been experiencing joint pain in my fing...        NaN        NaN  \n",
       "3     There is a silver like dusting on my skin, esp...        NaN        NaN  \n",
       "4     My nails have small dents or pits in them, and...        NaN        NaN  \n",
       "...                                                 ...        ...        ...  \n",
       "1194  I'm shaking and trembling all over. I've lost ...        NaN        NaN  \n",
       "1195  Particularly in the crevices of my skin, I hav...        NaN        NaN  \n",
       "1196  I regularly experience these intense urges and...        NaN        NaN  \n",
       "1197  I have trouble breathing, especially outside. ...        NaN        NaN  \n",
       "1198  I constantly sneeze and have a dry cough. My i...        NaN        NaN  \n",
       "\n",
       "[1199 rows x 5 columns]"
      ]
     },
     "execution_count": 5,
     "metadata": {},
     "output_type": "execute_result"
    }
   ],
   "source": [
    "df"
   ]
  },
  {
   "cell_type": "code",
   "execution_count": 3,
   "id": "2fc5788b",
   "metadata": {},
   "outputs": [
    {
     "data": {
      "text/plain": [
       "<Axes: >"
      ]
     },
     "execution_count": 3,
     "metadata": {},
     "output_type": "execute_result"
    },
    {
     "data": {
      "image/png": "[encoded data removed]",
      "text/plain": [
       "<Figure size 640x480 with 1 Axes>"
      ]
     },
     "metadata": {},
     "output_type": "display_data"
    }
   ],
   "source": [
    "import pandas as pd\n",
    "df=pd.read_csv(\"C:\\\\Users\\\\PRAJES DAS\\\\Downloads\\\\Symptom2Disease.csv\")\n",
    "df.plot()"
   ]
  },
  {
   "cell_type": "code",
   "execution_count": null,
   "id": "61e21193",
   "metadata": {},
   "outputs": [],
   "source": [
    "data.to_csv(\"symptones_disease_pair.csv\")"
   ]
  },
  {
   "cell_type": "code",
   "execution_count": 11,
   "id": "8591e06d",
   "metadata": {},
   "outputs": [],
   "source": [
    "df[\"new_col\"]=df[\"label\"]+[\"text\"]"
   ]
  },
  {
   "cell_type": "code",
   "execution_count": 10,
   "id": "e945ec71",
   "metadata": {},
   "outputs": [
    {
     "data": {
      "text/plain": [
       "count          5\n",
       "unique         2\n",
       "top       object\n",
       "freq           4\n",
       "dtype: object"
      ]
     },
     "execution_count": 10,
     "metadata": {},
     "output_type": "execute_result"
    }
   ],
   "source": [
    "df.dtypes.describe()"
   ]
  },
  {
   "cell_type": "code",
   "execution_count": null,
   "id": "4ccc7104",
   "metadata": {},
   "outputs": [],
   "source": []
  }
 ],
 "metadata": {
  "kernelspec": {
   "display_name": "Python 3 (ipykernel)",
   "language": "python",
   "name": "python3"
  },
  "language_info": {
   "codemirror_mode": {
    "name": "ipython",
    "version": 3
   },
   "file_extension": ".py",
   "mimetype": "text/x-python",
   "name": "python",
   "nbconvert_exporter": "python",
   "pygments_lexer": "ipython3",
   "version": "3.11.3"
  }
 },
 "nbformat": 4,
 "nbformat_minor": 5
}
